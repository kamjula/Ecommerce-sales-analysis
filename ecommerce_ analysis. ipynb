 Step 1: Import libraries
import pandas as pd
import matplotlib.pyplot as plt
import seaborn as sns

# Step 2: Load the dataset
df = pd.read_csv('ecommerce_sample_dataset.csv')

# Step 3: Show basic info
print(df.head())
print(df.info())
print(df.describe())
df['OrderDate'] = pd.to_datetime(df['OrderDate'])
# Check for missing values in each column
print(df.isnull().sum())
print("Total Sales: $", round(df['Sales'].sum(), 2))
top_products = df.groupby('Product')['Sales'].sum().sort_values(ascending=False)
print(top_products)
sales_by_region = df.groupby('Region')['Sales'].sum().sort_values(ascending=False)
print(sales_by_region)
df.groupby('OrderDate')['Sales'].sum().plot(kind='line', figsize=(10,5), title='Sales Trend Over Time', color='green')
plt.xlabel('Date')
plt.ylabel('Sales')
plt.grid(True)
plt.show()